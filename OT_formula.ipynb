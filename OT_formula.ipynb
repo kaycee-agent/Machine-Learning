{
  "nbformat": 4,
  "nbformat_minor": 0,
  "metadata": {
    "colab": {
      "provenance": [],
      "include_colab_link": true
    },
    "kernelspec": {
      "name": "python3",
      "display_name": "Python 3"
    },
    "language_info": {
      "name": "python"
    }
  },
  "cells": [
    {
      "cell_type": "markdown",
      "metadata": {
        "id": "view-in-github",
        "colab_type": "text"
      },
      "source": [
        "<a href=\"https://colab.research.google.com/github/kaycee-agent/Machine-Learning/blob/master/OT_formula.ipynb\" target=\"_parent\"><img src=\"https://colab.research.google.com/assets/colab-badge.svg\" alt=\"Open In Colab\"/></a>"
      ]
    },
    {
      "cell_type": "code",
      "execution_count": null,
      "metadata": {
        "id": "iF1vW7lpfE8b"
      },
      "outputs": [],
      "source": [
        "%config InteractiveShell.ast_node_interactivity='last_expr_or_assign'"
      ]
    },
    {
      "cell_type": "markdown",
      "source": [
        "## OT - Formula\n",
        "\n",
        "https://en.wikipedia.org/wiki/Transportation_theory_(mathematics)#Optimal_transportation_on_the_real_line\n",
        "\n",
        "Encoder = Fᵥ⁻¹∘Fᵤ and decoder =(Fᵥ⁻¹∘Fᵤ)⁻¹ = Fᵤ⁻¹∘Fᵥ\n",
        "\n",
        "is the transport map from u to v."
      ],
      "metadata": {
        "id": "yMhPMwL3fGC2"
      }
    },
    {
      "cell_type": "code",
      "source": [
        "import numpy as np\n",
        "import matplotlib.pyplot as plt\n",
        "from scipy import stats\n"
      ],
      "metadata": {
        "id": "FxpAaOZsfJC_"
      },
      "execution_count": null,
      "outputs": []
    },
    {
      "cell_type": "code",
      "source": [
        "N = 10_000\n",
        "x = stats.expon.rvs(size=N)\n",
        "plt.hist(x, bins=100, density=True);"
      ],
      "metadata": {
        "colab": {
          "base_uri": "https://localhost:8080/",
          "height": 430
        },
        "id": "FI67degdfLrM",
        "outputId": "8b965ebf-d535-46e1-8d09-a461accb0ae8"
      },
      "execution_count": null,
      "outputs": [
        {
          "output_type": "display_data",
          "data": {
            "text/plain": [
              "<Figure size 640x480 with 1 Axes>"
            ],
            "image/png": "[encoded data removed]"
          },
          "metadata": {}
        }
      ]
    },
    {
      "cell_type": "code",
      "source": [],
      "metadata": {
        "id": "yIUIc0-wke1s"
      },
      "execution_count": null,
      "outputs": []
    },
    {
      "cell_type": "code",
      "source": [
        "params = stats.expon.fit(x)\n",
        "dist_p = stats.expon(*params)\n",
        "dist_q = stats.norm(0, 1)  # target distribution\n",
        "dist_n = stats.norm(*stats.norm.fit(x))"
      ],
      "metadata": {
        "colab": {
          "base_uri": "https://localhost:8080/"
        },
        "id": "1y_vEjr9fRhA",
        "outputId": "2978f689-1319-4d84-b9a9-9d8f8d2d1d7e"
      },
      "execution_count": null,
      "outputs": [
        {
          "output_type": "execute_result",
          "data": {
            "text/plain": [
              "<scipy.stats._distn_infrastructure.rv_continuous_frozen at 0x7e8648b3c0d0>"
            ]
          },
          "metadata": {},
          "execution_count": 63
        }
      ]
    },
    {
      "cell_type": "code",
      "source": [
        "def nnl(dist, x):\n",
        "   return - dist.logpdf(x).mean()\n",
        "\n",
        "nnl(dist_p, x), nnl(dist_q, x), nnl(dist_n, x)"
      ],
      "metadata": {
        "colab": {
          "base_uri": "https://localhost:8080/"
        },
        "id": "uiQhi7Fniuv3",
        "outputId": "f40349ba-1d74-4905-f336-c8818c4c7dd1"
      },
      "execution_count": null,
      "outputs": [
        {
          "output_type": "execute_result",
          "data": {
            "text/plain": [
              "(0.9925458706515529, 1.9086034524668751, 1.4157890277648817)"
            ]
          },
          "metadata": {},
          "execution_count": 64
        }
      ]
    },
    {
      "cell_type": "code",
      "source": [
        "lower_tol = 2**-9\n",
        "upper_tol = 2**5\n",
        "\n",
        "def encoder(x):\n",
        "  x = x.clip(lower_tol, upper_tol)\n",
        "  q = dist_p.cdf(x)\n",
        "  y = dist_q.ppf(q)\n",
        "  return y\n",
        "\n",
        "def decoder(y):\n",
        "  # y = y.clip(...)\n",
        "  q = dist_q.cdf(y)\n",
        "  x = dist_p.ppf(q)\n",
        "  return x"
      ],
      "metadata": {
        "id": "9RtEQv0ufzza"
      },
      "execution_count": null,
      "outputs": []
    },
    {
      "cell_type": "code",
      "source": [
        "y = encoder(x)\n",
        "print(y.min(), y.max())  # 68-95-99.7 rule\n",
        "\n",
        "# check nnl of the encoded varaibles against target distribution\n",
        "print(nnl(dist_q, x), nnl(dist_q, y))\n",
        "\n",
        "# decode again\n",
        "x_reconstructed = decoder(y)\n",
        "\n",
        "# verify that the the reconstruction error is small.\n",
        "abs(x - x_reconstructed).max()"
      ],
      "metadata": {
        "colab": {
          "base_uri": "https://localhost:8080/"
        },
        "id": "Uf5No04CgM-W",
        "outputId": "436a1cb1-ce49-46e5-af87-20324137f37a"
      },
      "execution_count": null,
      "outputs": [
        {
          "output_type": "stream",
          "name": "stdout",
          "text": [
            "-2.91828929811469 3.5664369140602847\n",
            "1.9086034524668751 1.4252020787421331\n"
          ]
        },
        {
          "output_type": "execute_result",
          "data": {
            "text/plain": [
              "0.0017482580467169297"
            ]
          },
          "metadata": {},
          "execution_count": 72
        }
      ]
    },
    {
      "cell_type": "code",
      "source": [
        "t = np.linspace(-3, +3)\n",
        "g = dist_q.pdf(t)\n",
        "\n",
        "fig, ax = plt.subplots()\n",
        "\n",
        "ax.hist(y, bins=100, density=True);\n",
        "ax.plot(t, g, \"-r\")"
      ],
      "metadata": {
        "colab": {
          "base_uri": "https://localhost:8080/",
          "height": 447
        },
        "id": "cmiatVcthTWi",
        "outputId": "60ac327b-54ed-453a-db30-72ce7085471b"
      },
      "execution_count": null,
      "outputs": [
        {
          "output_type": "execute_result",
          "data": {
            "text/plain": [
              "[<matplotlib.lines.Line2D at 0x7e8648e14df0>]"
            ]
          },
          "metadata": {},
          "execution_count": 55
        },
        {
          "output_type": "display_data",
          "data": {
            "text/plain": [
              "<Figure size 640x480 with 1 Axes>"
            ],
            "image/png": "[encoded data removed]"
          },
          "metadata": {}
        }
      ]
    },
    {
      "cell_type": "markdown",
      "source": [
        "# Maximum entropy distribution\n",
        "\n",
        "https://en.wikipedia.org/wiki/Maximum_entropy_probability_distribution\n",
        "\n",
        "-> for each of the 3 cases\n",
        "\n",
        "1. real number line (-∞, +∞)\n",
        "2. half line [0, ∞)\n",
        "3. finite interval [a, b]\n",
        "\n",
        "pick 3-4 relevant/common distributions.\n",
        "\n",
        "For given data:\n",
        "\n",
        "- compute nnl of fitted distributions.\n",
        "- pick the best fitting one as the source distribution\n",
        "- the normal distribution N(0,1) is the target.\n",
        "- perform the transformation using optimal transport formula as the encoder."
      ],
      "metadata": {
        "id": "4bPAlVdIjl-9"
      }
    },
    {
      "cell_type": "code",
      "source": [],
      "metadata": {
        "id": "g1D6wpR1iLRO"
      },
      "execution_count": null,
      "outputs": []
    }
  ]
}